{
  "nbformat": 4,
  "nbformat_minor": 0,
  "metadata": {
    "colab": {
      "provenance": [],
      "authorship_tag": "ABX9TyPaOnssbIepTTCL+KVNtWNn",
      "include_colab_link": true
    },
    "kernelspec": {
      "name": "python3",
      "display_name": "Python 3"
    },
    "language_info": {
      "name": "python"
    }
  },
  "cells": [
    {
      "cell_type": "markdown",
      "metadata": {
        "id": "view-in-github",
        "colab_type": "text"
      },
      "source": [
        "<a href=\"https://colab.research.google.com/github/shan-gao-qd/metro/blob/main/code.ipynb\" target=\"_parent\"><img src=\"https://colab.research.google.com/assets/colab-badge.svg\" alt=\"Open In Colab\"/></a>"
      ]
    },
    {
      "cell_type": "code",
      "execution_count": null,
      "metadata": {
        "id": "u6yUkfGkljur"
      },
      "outputs": [],
      "source": [
        "from google.colab import drive\n",
        "drive.mount('/content/drive')\n",
        "import os\n",
        "os.chdir('drive/My Drive/Dissertation')"
      ]
    },
    {
      "cell_type": "code",
      "source": [
        "import pandas as pd\n",
        "import numpy as np"
      ],
      "metadata": {
        "id": "ivUy8x-yloJI"
      },
      "execution_count": null,
      "outputs": []
    },
    {
      "cell_type": "markdown",
      "source": [
        "load datasets,\n",
        "the datasets are coverted from GeoTIFF to csv in QGIS"
      ],
      "metadata": {
        "id": "mu5ga2-5mpJD"
      }
    },
    {
      "cell_type": "code",
      "source": [
        "light={}\n",
        "x=0\n",
        "for i in range(2000, 2019):\n",
        "  light[\"light{0}\".format(x)] = pd.read_csv(f'light{i}.csv', float_precision='round_trip', header=None, delim_whitespace=True)\n",
        "  x+=1"
      ],
      "metadata": {
        "id": "QvotFTgLlqBS"
      },
      "execution_count": null,
      "outputs": []
    },
    {
      "cell_type": "markdown",
      "source": [
        "merge the datasets to form a panel"
      ],
      "metadata": {
        "id": "WJHw-M3amu22"
      }
    },
    {
      "cell_type": "code",
      "source": [
        "light2000 = light['light0']\n",
        "light2001 = light['light1']\n",
        "light2002 = light['light2']\n",
        "light2003 = light['light3']\n",
        "light2004 = light['light4']\n",
        "light2005 = light['light5']\n",
        "light2006 = light['light6']\n",
        "light2007 = light['light7']\n",
        "light2008 = light['light8']\n",
        "light2009 = light['light9']\n",
        "light2010 = light['light10']\n",
        "light2011 = light['light11']\n",
        "light2012 = light['light12']\n",
        "light2013 = light['light13']\n",
        "light2014 = light['light14']\n",
        "light2015 = light['light15']\n",
        "light2016 = light['light16']\n",
        "light2017 = light['light17']\n",
        "light2018 = light['light18']"
      ],
      "metadata": {
        "id": "SueO4pytlsyJ"
      },
      "execution_count": null,
      "outputs": []
    },
    {
      "cell_type": "code",
      "source": [
        "light_list = [light2000, light2001, light2002, light2003, light2004, light2005, light2006, light2007, \n",
        "              light2008, light2009, light2010, light2011, light2012, light2013, light2014, light2015,\n",
        "              light2016, light2017, light2018]"
      ],
      "metadata": {
        "id": "fxtuZuDEltUW"
      },
      "execution_count": null,
      "outputs": []
    },
    {
      "cell_type": "code",
      "source": [
        "new_list = []\n",
        "x=0\n",
        "for i in light_list:\n",
        "  i = i.rename(columns={0: \"lon\", 1: \"lat\", 2: \"light\"})\n",
        "  time = [2000+x]*len(i)\n",
        "  i['time'] = time\n",
        "  new_list.append(i)\n",
        "  x+=1"
      ],
      "metadata": {
        "id": "c2Sjs82jl880"
      },
      "execution_count": null,
      "outputs": []
    },
    {
      "cell_type": "code",
      "source": [
        "lightdf = pd.concat(new_list)"
      ],
      "metadata": {
        "id": "ePh1Oar8mAMk"
      },
      "execution_count": null,
      "outputs": []
    },
    {
      "cell_type": "code",
      "source": [
        "lightdf['index'] = lightdf['lon'].astype(str) + ',' + lightdf['lat'].astype(str)"
      ],
      "metadata": {
        "id": "EnNK1p4xmCdB"
      },
      "execution_count": null,
      "outputs": []
    },
    {
      "cell_type": "code",
      "source": [
        "stations = pd.read_csv('stations.csv', float_precision='round_trip', sep=',')"
      ],
      "metadata": {
        "id": "utFFoTQimLUr"
      },
      "execution_count": null,
      "outputs": []
    },
    {
      "cell_type": "code",
      "source": [
        "from math import cos, asin, sqrt, pi\n",
        "## the Haversine formula for calculating distance\n",
        "def distance(lat1, lon1, lat2, lon2):\n",
        "    p = pi/180\n",
        "    a = 0.5 - cos((lat2-lat1)*p)/2 + cos(lat1*p) * cos(lat2*p) * (1-cos((lon2-lon1)*p))/2\n",
        "    return 12742 * asin(sqrt(a))"
      ],
      "metadata": {
        "id": "xTl1CZULmNSF"
      },
      "execution_count": null,
      "outputs": []
    },
    {
      "cell_type": "markdown",
      "source": [
        "nearest distance"
      ],
      "metadata": {
        "id": "dmS4VwEHmk-8"
      }
    },
    {
      "cell_type": "code",
      "source": [
        "stcoods = stations[['long', 'lati']].to_numpy()"
      ],
      "metadata": {
        "id": "SW4kXS7zmNY2"
      },
      "execution_count": null,
      "outputs": []
    },
    {
      "cell_type": "code",
      "source": [
        "lightdf['distance1'] = range(0, len(lightdf))\n",
        "for i in range(2000, 2019):\n",
        "  s = stations[stations['year'] < i+1]\n",
        "  stcoods = s[['long', 'lati']].to_numpy()\n",
        "  dl=[]\n",
        "  for index, row in lightdf[lightdf['time']==i].iterrows():\n",
        "    distances = []\n",
        "    for j in stcoods:\n",
        "      distances.append(distance(row[3], row[2], j[1], j[0]))\n",
        "    dl.append(min(distances))\n",
        "  lightdf.loc[lightdf['time']==i, 'distance1'] = dl"
      ],
      "metadata": {
        "id": "avw06XT_mUfz"
      },
      "execution_count": null,
      "outputs": []
    },
    {
      "cell_type": "markdown",
      "source": [
        "distance bands"
      ],
      "metadata": {
        "id": "DUHz1-EgmhRE"
      }
    },
    {
      "cell_type": "code",
      "source": [
        "for i in range(2000, 2019):\n",
        "  s = stations[stations['year'] < i+1]\n",
        "  stcoods = s[['long', 'lati']].to_numpy()\n",
        "  s1=[]\n",
        "  s3=[]\n",
        "  s5=[]\n",
        "  s10=[]\n",
        "  for index, row in lightdf[lightdf['time']==i].iterrows():\n",
        "    distances = []\n",
        "    for j in stcoods:\n",
        "      distances.append(distance(row[3], row[2], j[1], j[0]))\n",
        "    s1.append(len([distance for distance in distances if distance < 1]))\n",
        "    s3.append(len([distance for distance in distances if distance < 3]))\n",
        "    s5.append(len([distance for distance in distances if distance < 5]))\n",
        "    s10.append(len([distance for distance in distances if distance < 10]))\n",
        "  lightdf.loc[lightdf['time']==i, 'num_s_1km'] = s1\n",
        "  lightdf.loc[lightdf['time']==i, 'num_s_3km'] = s3\n",
        "  lightdf.loc[lightdf['time']==i, 'num_s_5km'] = s5\n",
        "  lightdf.loc[lightdf['time']==i, 'num_s_10km'] = s10"
      ],
      "metadata": {
        "id": "HwAlVOWTmYkn"
      },
      "execution_count": null,
      "outputs": []
    },
    {
      "cell_type": "markdown",
      "source": [
        "lag and leads"
      ],
      "metadata": {
        "id": "p1kQcDhzme9D"
      }
    },
    {
      "cell_type": "code",
      "source": [
        "for t in [1,2,3,4,5]:\n",
        "  for i in range(2000, 2019):\n",
        "    s = stations[stations['year'] < i+1-t]\n",
        "    stcoods = s[['long', 'lati']].to_numpy()\n",
        "    dl=[]\n",
        "    for index, row in lightdf[lightdf['time']==i].iterrows():\n",
        "      distances = []\n",
        "      for j in stcoods:\n",
        "        distances.append(distance(row[3], row[2], j[1], j[0]))\n",
        "      dl.append(min(distances))\n",
        "    lightdf.loc[lightdf['time']==i, f'distance-{t}'] = dl"
      ],
      "metadata": {
        "id": "5k16PMFBmbVF"
      },
      "execution_count": null,
      "outputs": []
    },
    {
      "cell_type": "code",
      "source": [
        "for t in [1,2,3,4,5]:\n",
        "  for i in range(2000, 2019):\n",
        "    s = stations[stations['year'] < i+1+t]\n",
        "    stcoods = s[['long', 'lati']].to_numpy()\n",
        "    dl=[]\n",
        "    for index, row in lightdf[lightdf['time']==i].iterrows():\n",
        "      distances = []\n",
        "      for j in stcoods:\n",
        "        distances.append(distance(row[3], row[2], j[1], j[0]))\n",
        "      dl.append(min(distances))\n",
        "    lightdf.loc[lightdf['time']==i, f'distance+{t}'] = dl"
      ],
      "metadata": {
        "id": "_p8ztPSanIsT"
      },
      "execution_count": null,
      "outputs": []
    },
    {
      "cell_type": "code",
      "source": [
        "for t in [1,2,3,4,5]:\n",
        "  for i in range(2000, 2019):\n",
        "    s = stations[stations['year'] < i+1-t]\n",
        "    stcoods = s[['long', 'lati']].to_numpy()\n",
        "    s1=[]\n",
        "    s3=[]\n",
        "    s5=[]\n",
        "    s10=[]\n",
        "    for index, row in lightdf[lightdf['time']==i].iterrows():\n",
        "      distances = []\n",
        "      for j in stcoods:\n",
        "        distances.append(distance(row[3], row[2], j[1], j[0]))\n",
        "      s1.append(len([distance for distance in distances if distance < 1]))\n",
        "      s3.append(len([distance for distance in distances if distance < 3]))\n",
        "      s5.append(len([distance for distance in distances if distance < 5]))\n",
        "      s10.append(len([distance for distance in distances if distance < 10]))\n",
        "    lightdf.loc[lightdf['time']==i, f'num_s_1km-{t}'] = s1\n",
        "    lightdf.loc[lightdf['time']==i, f'num_s_3km-{t}'] = s3\n",
        "    lightdf.loc[lightdf['time']==i, f'num_s_5km-{t}'] = s5\n",
        "    lightdf.loc[lightdf['time']==i, f'num_s_10km-{t}'] = s10"
      ],
      "metadata": {
        "id": "YcNTopFmnJPS"
      },
      "execution_count": null,
      "outputs": []
    },
    {
      "cell_type": "code",
      "source": [
        "for t in [1,2,3,4,5]:\n",
        "  for i in range(2000, 2019):\n",
        "    s = stations[stations['year'] < i+1+t]\n",
        "    stcoods = s[['long', 'lati']].to_numpy()\n",
        "    s1=[]\n",
        "    s3=[]\n",
        "    s5=[]\n",
        "    s10=[]\n",
        "    for index, row in lightdf[lightdf['time']==i].iterrows():\n",
        "      distances = []\n",
        "      for j in stcoods:\n",
        "        distances.append(distance(row[3], row[2], j[1], j[0]))\n",
        "      s1.append(len([distance for distance in distances if distance < 1]))\n",
        "      s3.append(len([distance for distance in distances if distance < 3]))\n",
        "      s5.append(len([distance for distance in distances if distance < 5]))\n",
        "      s10.append(len([distance for distance in distances if distance < 10]))\n",
        "    lightdf.loc[lightdf['time']==i, f'num_s_1km+{t}'] = s1\n",
        "    lightdf.loc[lightdf['time']==i, f'num_s_3km+{t}'] = s3\n",
        "    lightdf.loc[lightdf['time']==i, f'num_s_5km+{t}'] = s5\n",
        "    lightdf.loc[lightdf['time']==i, f'num_s_10km+{t}'] = s10"
      ],
      "metadata": {
        "id": "D8Etqn8SnLhw"
      },
      "execution_count": null,
      "outputs": []
    },
    {
      "cell_type": "code",
      "source": [],
      "metadata": {
        "id": "Bz0Ajd8LnVbc"
      },
      "execution_count": null,
      "outputs": []
    },
    {
      "cell_type": "markdown",
      "source": [
        "regression"
      ],
      "metadata": {
        "id": "rQ59SPhUnVu6"
      }
    },
    {
      "cell_type": "code",
      "source": [
        "lightdf = lightdf.set_index(['index', 'time'])\n",
        "exog = sm.tools.tools.add_constant(lightdf['distance1'])\n",
        "endog = lightdf['light']\n",
        "# fixed effects model\n",
        "model_fe = PanelOLS(endog, exog, entity_effects=True , time_effects=True) \n",
        "fe_res = model_fe.fit(cov_type='robust') \n",
        "#print results\n",
        "print(fe_res)"
      ],
      "metadata": {
        "id": "fXhg2FkGnXYN"
      },
      "execution_count": null,
      "outputs": []
    },
    {
      "cell_type": "code",
      "source": [],
      "metadata": {
        "id": "9GXKinjAp5ku"
      },
      "execution_count": null,
      "outputs": []
    },
    {
      "cell_type": "markdown",
      "source": [
        "firm establishments"
      ],
      "metadata": {
        "id": "IbL3YIPjp-fE"
      }
    },
    {
      "cell_type": "code",
      "source": [
        "ged = pd.read_csv('GED_2005-2015_v2.csv', float_precision='round_trip', sep=',')\n",
        "ged = ged[ged['province_code']==310000]\n",
        "ged = ged[['idx', 'lon', 'lat', 'date', 'establish_', 'establis_1', 'establis_2', 'establis_3', 'exist_tota',\t'exist_prim', '', 'county_cod', 'county', 'city_code', 'city']]\n",
        "pd.set_option('display.precision',16)"
      ],
      "metadata": {
        "id": "gtzNYQb8qAGl"
      },
      "execution_count": null,
      "outputs": []
    },
    {
      "cell_type": "code",
      "source": [
        "ged['lon'] = pd.to_numeric(ged[\"lon\"])\n",
        "ged['lat'] = pd.to_numeric(ged[\"lat\"])\n",
        "ged['establish_'] = pd.to_numeric(ged[\"establish_\"])\n",
        "ged['establis_1'] = pd.to_numeric(ged[\"establis_1\"])\n",
        "ged['establis_2'] = pd.to_numeric(ged[\"establis_2\"])\n",
        "ged['establis_3'] = pd.to_numeric(ged[\"establis_3\"])\n",
        "\n",
        "ged['exist_tota'] = pd.to_numeric(ged[\"exist_tota\"])\n",
        "ged['exist_prim'] = pd.to_numeric(ged[\"exist_prim\"])\n",
        "ged['exist_seco'] = pd.to_numeric(ged[\"exist_seco\"])\n",
        "ged['exist_tert'] = pd.to_numeric(ged[\"exist_tert\"])\n",
        "ged['date'] = pd.to_numeric(ged[\"date\"])"
      ],
      "metadata": {
        "id": "81MuDwIEqG1l"
      },
      "execution_count": null,
      "outputs": []
    },
    {
      "cell_type": "code",
      "source": [
        "df_balanced = (ged.set_index('date',append=True)\n",
        "                 .reindex(pd.MultiIndex.from_product([ged.idx.unique(),\n",
        "                                                      range(ged.date.min(), ged.date.max()+1)],\n",
        "                                                      names=['idx','date']))\n",
        "                 .reset_index(level=1))\n"
      ],
      "metadata": {
        "id": "0Fq9rL4UqKNK"
      },
      "execution_count": null,
      "outputs": []
    },
    {
      "cell_type": "code",
      "source": [
        "import itertools\n",
        "\n",
        "balanced_idx = pd.DataFrame(\n",
        "    itertools.product(\n",
        "        set(ged['idx']),  # Dimension 1: All country codes\n",
        "        range(2005, 2016)\n",
        "    )\n",
        "    , columns=['idx', 'date']  # Assign column names\n",
        ")\n"
      ],
      "metadata": {
        "id": "cF3XanMRqL5N"
      },
      "execution_count": null,
      "outputs": []
    },
    {
      "cell_type": "code",
      "source": [
        "balanced_df = balanced_idx.merge(\n",
        "    ged, \n",
        "    on=['idx', 'date'], \n",
        "    how='left'\n",
        ")\n"
      ],
      "metadata": {
        "id": "wRUR1yeTqNc2"
      },
      "execution_count": null,
      "outputs": []
    },
    {
      "cell_type": "code",
      "source": [
        "# Fill 1: Simply filled by zero.\n",
        "balanced_df['establish_'].fillna(0, inplace=True)\n",
        "balanced_df['establis_1'].fillna(0, inplace=True)\n",
        "balanced_df['establis_2'].fillna(0, inplace=True)\n",
        "balanced_df['establis_3'].fillna(0, inplace=True)\n",
        "balanced_df['exist_tota'].fillna(0, inplace=True)\n",
        "balanced_df['exist_prim'].fillna(0, inplace=True) \n",
        "balanced_df['exist_seco'].fillna(0, inplace=True) \n",
        "balanced_df['exist_tert'].fillna(0, inplace=True)"
      ],
      "metadata": {
        "id": "soSAwKO4qO_B"
      },
      "execution_count": null,
      "outputs": []
    },
    {
      "cell_type": "code",
      "source": [
        "stcoods = stations[['long', 'lati']].to_numpy()\n",
        "for i in [[121.5, 31.2]]:\n",
        "  distances = []\n",
        "  for j in stcoods:\n",
        "    distances.append(distance(i[1], i[0], j[1], j[0]))\n",
        "  print(min(distances))"
      ],
      "metadata": {
        "id": "vqIC45LWqT4f"
      },
      "execution_count": null,
      "outputs": []
    },
    {
      "cell_type": "code",
      "source": [
        "for t in [1,2,3,4,5]:\n",
        "  for i in range(2005, 2016):\n",
        "    s = stations[stations['year'] < i+1-t]\n",
        "    stcoods = s[['long', 'lati']].to_numpy()\n",
        "    s1=[]\n",
        "    s3=[]\n",
        "    s5=[]\n",
        "    s10=[]\n",
        "    for index, row in balanced_df[balanced_df['date']==i].iterrows():\n",
        "      distances = []\n",
        "      for j in stcoods:\n",
        "        distances.append(distance(row[4], row[3], j[1], j[0]))\n",
        "      s1.append(len([distance for distance in distances if distance < 1]))\n",
        "      s3.append(len([distance for distance in distances if distance < 3]))\n",
        "      s5.append(len([distance for distance in distances if distance < 5]))\n",
        "      s10.append(len([distance for distance in distances if distance < 10]))\n",
        "    balanced_df.loc[balanced_df['date']==i, f'num_s_1km-{t}'] = s1\n",
        "    balanced_df.loc[balanced_df['date']==i, f'num_s_3km-{t}'] = s3\n",
        "    balanced_df.loc[balanced_df['date']==i, f'num_s_5km-{t}'] = s5\n",
        "    balanced_df.loc[balanced_df['date']==i, f'num_s_10km-{t}'] = s10"
      ],
      "metadata": {
        "id": "_j1Tr1lWqeke"
      },
      "execution_count": null,
      "outputs": []
    },
    {
      "cell_type": "code",
      "source": [
        "for t in [1,2,3,4,5]:\n",
        "  for i in range(2005, 2016):\n",
        "    s = stations[stations['year'] < i+1+t]\n",
        "    stcoods = s[['long', 'lati']].to_numpy()\n",
        "    s1=[]\n",
        "    s3=[]\n",
        "    s5=[]\n",
        "    s10=[]\n",
        "    for index, row in balanced_df[balanced_df['date']==i].iterrows():\n",
        "      distances = []\n",
        "      for j in stcoods:\n",
        "        distances.append(distance(row[4], row[3], j[1], j[0]))\n",
        "      s1.append(len([distance for distance in distances if distance < 1]))\n",
        "      s3.append(len([distance for distance in distances if distance < 3]))\n",
        "      s5.append(len([distance for distance in distances if distance < 5]))\n",
        "      s10.append(len([distance for distance in distances if distance < 10]))\n",
        "    balanced_df.loc[balanced_df['date']==i, f'num_s_1km+{t}'] = s1\n",
        "    balanced_df.loc[balanced_df['date']==i, f'num_s_3km+{t}'] = s3\n",
        "    balanced_df.loc[balanced_df['date']==i, f'num_s_5km+{t}'] = s5\n",
        "    balanced_df.loc[balanced_df['date']==i, f'num_s_10km+{t}'] = s10"
      ],
      "metadata": {
        "id": "NiWIgW6gqgZj"
      },
      "execution_count": null,
      "outputs": []
    },
    {
      "cell_type": "code",
      "source": [],
      "metadata": {
        "id": "A_iXOt8dqUIj"
      },
      "execution_count": null,
      "outputs": []
    }
  ]
}